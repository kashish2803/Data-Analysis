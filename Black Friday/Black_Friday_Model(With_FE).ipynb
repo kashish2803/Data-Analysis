{
 "cells": [
  {
   "cell_type": "markdown",
   "metadata": {},
   "source": [
    "<h1 style=\"color:#2e658b; text-align:center; font-size:250%\">BLACK FRIDAY HACKATHON</h1>"
   ]
  },
  {
   "cell_type": "code",
   "execution_count": 53,
   "metadata": {
    "collapsed": true
   },
   "outputs": [],
   "source": [
    "#########################\n",
    "# Importing the Libraries\n",
    "#########################\n",
    "\n",
    "import sys\n",
    "import numpy as np\n",
    "import pandas as pd\n",
    "from sklearn.preprocessing import LabelEncoder\n",
    "import math\n",
    "import xgboost as xgb\n",
    "\n",
    "import warnings\n",
    "warnings.filterwarnings('ignore')"
   ]
  },
  {
   "cell_type": "code",
   "execution_count": 3,
   "metadata": {
    "collapsed": true,
    "scrolled": false
   },
   "outputs": [],
   "source": [
    "#####################\n",
    "# Loading the dataset\n",
    "#####################\n",
    "\n",
    "train = pd.read_csv('train.csv')\n",
    "test = pd.read_csv('test.csv')"
   ]
  },
  {
   "cell_type": "code",
   "execution_count": 4,
   "metadata": {
    "collapsed": true
   },
   "outputs": [],
   "source": [
    "# Saving id variables to create final submission\n",
    "\n",
    "ids_test = test['User_ID'].copy()\n",
    "product_ids_test = test['Product_ID'].copy()"
   ]
  },
  {
   "cell_type": "code",
   "execution_count": 5,
   "metadata": {},
   "outputs": [
    {
     "data": {
      "text/html": [
       "<div>\n",
       "<style>\n",
       "    .dataframe thead tr:only-child th {\n",
       "        text-align: right;\n",
       "    }\n",
       "\n",
       "    .dataframe thead th {\n",
       "        text-align: left;\n",
       "    }\n",
       "\n",
       "    .dataframe tbody tr th {\n",
       "        vertical-align: top;\n",
       "    }\n",
       "</style>\n",
       "<table border=\"1\" class=\"dataframe\">\n",
       "  <thead>\n",
       "    <tr style=\"text-align: right;\">\n",
       "      <th></th>\n",
       "      <th>User_ID</th>\n",
       "      <th>Product_ID</th>\n",
       "      <th>Gender</th>\n",
       "      <th>Age</th>\n",
       "      <th>Occupation</th>\n",
       "      <th>City_Category</th>\n",
       "      <th>Stay_In_Current_City_Years</th>\n",
       "      <th>Marital_Status</th>\n",
       "      <th>Product_Category_1</th>\n",
       "      <th>Product_Category_2</th>\n",
       "      <th>Product_Category_3</th>\n",
       "      <th>Purchase</th>\n",
       "    </tr>\n",
       "  </thead>\n",
       "  <tbody>\n",
       "    <tr>\n",
       "      <th>0</th>\n",
       "      <td>1000001</td>\n",
       "      <td>P00069042</td>\n",
       "      <td>F</td>\n",
       "      <td>0-17</td>\n",
       "      <td>10</td>\n",
       "      <td>A</td>\n",
       "      <td>2</td>\n",
       "      <td>0</td>\n",
       "      <td>3</td>\n",
       "      <td>NaN</td>\n",
       "      <td>NaN</td>\n",
       "      <td>8370</td>\n",
       "    </tr>\n",
       "    <tr>\n",
       "      <th>1</th>\n",
       "      <td>1000001</td>\n",
       "      <td>P00248942</td>\n",
       "      <td>F</td>\n",
       "      <td>0-17</td>\n",
       "      <td>10</td>\n",
       "      <td>A</td>\n",
       "      <td>2</td>\n",
       "      <td>0</td>\n",
       "      <td>1</td>\n",
       "      <td>6.0</td>\n",
       "      <td>14.0</td>\n",
       "      <td>15200</td>\n",
       "    </tr>\n",
       "    <tr>\n",
       "      <th>2</th>\n",
       "      <td>1000001</td>\n",
       "      <td>P00087842</td>\n",
       "      <td>F</td>\n",
       "      <td>0-17</td>\n",
       "      <td>10</td>\n",
       "      <td>A</td>\n",
       "      <td>2</td>\n",
       "      <td>0</td>\n",
       "      <td>12</td>\n",
       "      <td>NaN</td>\n",
       "      <td>NaN</td>\n",
       "      <td>1422</td>\n",
       "    </tr>\n",
       "    <tr>\n",
       "      <th>3</th>\n",
       "      <td>1000001</td>\n",
       "      <td>P00085442</td>\n",
       "      <td>F</td>\n",
       "      <td>0-17</td>\n",
       "      <td>10</td>\n",
       "      <td>A</td>\n",
       "      <td>2</td>\n",
       "      <td>0</td>\n",
       "      <td>12</td>\n",
       "      <td>14.0</td>\n",
       "      <td>NaN</td>\n",
       "      <td>1057</td>\n",
       "    </tr>\n",
       "    <tr>\n",
       "      <th>4</th>\n",
       "      <td>1000002</td>\n",
       "      <td>P00285442</td>\n",
       "      <td>M</td>\n",
       "      <td>55+</td>\n",
       "      <td>16</td>\n",
       "      <td>C</td>\n",
       "      <td>4+</td>\n",
       "      <td>0</td>\n",
       "      <td>8</td>\n",
       "      <td>NaN</td>\n",
       "      <td>NaN</td>\n",
       "      <td>7969</td>\n",
       "    </tr>\n",
       "  </tbody>\n",
       "</table>\n",
       "</div>"
      ],
      "text/plain": [
       "   User_ID Product_ID Gender   Age  Occupation City_Category  \\\n",
       "0  1000001  P00069042      F  0-17          10             A   \n",
       "1  1000001  P00248942      F  0-17          10             A   \n",
       "2  1000001  P00087842      F  0-17          10             A   \n",
       "3  1000001  P00085442      F  0-17          10             A   \n",
       "4  1000002  P00285442      M   55+          16             C   \n",
       "\n",
       "  Stay_In_Current_City_Years  Marital_Status  Product_Category_1  \\\n",
       "0                          2               0                   3   \n",
       "1                          2               0                   1   \n",
       "2                          2               0                  12   \n",
       "3                          2               0                  12   \n",
       "4                         4+               0                   8   \n",
       "\n",
       "   Product_Category_2  Product_Category_3  Purchase  \n",
       "0                 NaN                 NaN      8370  \n",
       "1                 6.0                14.0     15200  \n",
       "2                 NaN                 NaN      1422  \n",
       "3                14.0                 NaN      1057  \n",
       "4                 NaN                 NaN      7969  "
      ]
     },
     "execution_count": 5,
     "metadata": {},
     "output_type": "execute_result"
    }
   ],
   "source": [
    "# Training Set\n",
    "\n",
    "train.head()"
   ]
  },
  {
   "cell_type": "code",
   "execution_count": 6,
   "metadata": {},
   "outputs": [
    {
     "data": {
      "text/html": [
       "<div>\n",
       "<style>\n",
       "    .dataframe thead tr:only-child th {\n",
       "        text-align: right;\n",
       "    }\n",
       "\n",
       "    .dataframe thead th {\n",
       "        text-align: left;\n",
       "    }\n",
       "\n",
       "    .dataframe tbody tr th {\n",
       "        vertical-align: top;\n",
       "    }\n",
       "</style>\n",
       "<table border=\"1\" class=\"dataframe\">\n",
       "  <thead>\n",
       "    <tr style=\"text-align: right;\">\n",
       "      <th></th>\n",
       "      <th>User_ID</th>\n",
       "      <th>Product_ID</th>\n",
       "      <th>Gender</th>\n",
       "      <th>Age</th>\n",
       "      <th>Occupation</th>\n",
       "      <th>City_Category</th>\n",
       "      <th>Stay_In_Current_City_Years</th>\n",
       "      <th>Marital_Status</th>\n",
       "      <th>Product_Category_1</th>\n",
       "      <th>Product_Category_2</th>\n",
       "      <th>Product_Category_3</th>\n",
       "    </tr>\n",
       "  </thead>\n",
       "  <tbody>\n",
       "    <tr>\n",
       "      <th>0</th>\n",
       "      <td>1000004</td>\n",
       "      <td>P00128942</td>\n",
       "      <td>M</td>\n",
       "      <td>46-50</td>\n",
       "      <td>7</td>\n",
       "      <td>B</td>\n",
       "      <td>2</td>\n",
       "      <td>1</td>\n",
       "      <td>1</td>\n",
       "      <td>11.0</td>\n",
       "      <td>NaN</td>\n",
       "    </tr>\n",
       "    <tr>\n",
       "      <th>1</th>\n",
       "      <td>1000009</td>\n",
       "      <td>P00113442</td>\n",
       "      <td>M</td>\n",
       "      <td>26-35</td>\n",
       "      <td>17</td>\n",
       "      <td>C</td>\n",
       "      <td>0</td>\n",
       "      <td>0</td>\n",
       "      <td>3</td>\n",
       "      <td>5.0</td>\n",
       "      <td>NaN</td>\n",
       "    </tr>\n",
       "    <tr>\n",
       "      <th>2</th>\n",
       "      <td>1000010</td>\n",
       "      <td>P00288442</td>\n",
       "      <td>F</td>\n",
       "      <td>36-45</td>\n",
       "      <td>1</td>\n",
       "      <td>B</td>\n",
       "      <td>4+</td>\n",
       "      <td>1</td>\n",
       "      <td>5</td>\n",
       "      <td>14.0</td>\n",
       "      <td>NaN</td>\n",
       "    </tr>\n",
       "    <tr>\n",
       "      <th>3</th>\n",
       "      <td>1000010</td>\n",
       "      <td>P00145342</td>\n",
       "      <td>F</td>\n",
       "      <td>36-45</td>\n",
       "      <td>1</td>\n",
       "      <td>B</td>\n",
       "      <td>4+</td>\n",
       "      <td>1</td>\n",
       "      <td>4</td>\n",
       "      <td>9.0</td>\n",
       "      <td>NaN</td>\n",
       "    </tr>\n",
       "    <tr>\n",
       "      <th>4</th>\n",
       "      <td>1000011</td>\n",
       "      <td>P00053842</td>\n",
       "      <td>F</td>\n",
       "      <td>26-35</td>\n",
       "      <td>1</td>\n",
       "      <td>C</td>\n",
       "      <td>1</td>\n",
       "      <td>0</td>\n",
       "      <td>4</td>\n",
       "      <td>5.0</td>\n",
       "      <td>12.0</td>\n",
       "    </tr>\n",
       "  </tbody>\n",
       "</table>\n",
       "</div>"
      ],
      "text/plain": [
       "   User_ID Product_ID Gender    Age  Occupation City_Category  \\\n",
       "0  1000004  P00128942      M  46-50           7             B   \n",
       "1  1000009  P00113442      M  26-35          17             C   \n",
       "2  1000010  P00288442      F  36-45           1             B   \n",
       "3  1000010  P00145342      F  36-45           1             B   \n",
       "4  1000011  P00053842      F  26-35           1             C   \n",
       "\n",
       "  Stay_In_Current_City_Years  Marital_Status  Product_Category_1  \\\n",
       "0                          2               1                   1   \n",
       "1                          0               0                   3   \n",
       "2                         4+               1                   5   \n",
       "3                         4+               1                   4   \n",
       "4                          1               0                   4   \n",
       "\n",
       "   Product_Category_2  Product_Category_3  \n",
       "0                11.0                 NaN  \n",
       "1                 5.0                 NaN  \n",
       "2                14.0                 NaN  \n",
       "3                 9.0                 NaN  \n",
       "4                 5.0                12.0  "
      ]
     },
     "execution_count": 6,
     "metadata": {},
     "output_type": "execute_result"
    }
   ],
   "source": [
    "# Testing Set\n",
    "\n",
    "test.head()"
   ]
  },
  {
   "cell_type": "code",
   "execution_count": 7,
   "metadata": {},
   "outputs": [
    {
     "name": "stdout",
     "output_type": "stream",
     "text": [
      "No of Rows: 550068\n",
      "No of Columns: 12\n",
      "\n",
      "Columns:-\n",
      "['User_ID' 'Product_ID' 'Gender' 'Age' 'Occupation' 'City_Category'\n",
      " 'Stay_In_Current_City_Years' 'Marital_Status' 'Product_Category_1'\n",
      " 'Product_Category_2' 'Product_Category_3' 'Purchase']\n",
      "\n",
      "Stats of 'Purchase' Variable:-\n",
      "count    550068.000000\n",
      "mean       9263.968713\n",
      "std        5023.065394\n",
      "min          12.000000\n",
      "25%        5823.000000\n",
      "50%        8047.000000\n",
      "75%       12054.000000\n",
      "max       23961.000000\n",
      "Name: Purchase, dtype: float64\n"
     ]
    }
   ],
   "source": [
    "# Stats about Train varibale\n",
    "\n",
    "print(\"No of Rows:\", len(train))                            \n",
    "print(\"No of Columns:\", len(train.columns))\n",
    "print(\"\\nColumns:-\\n{}\".format(np.array(train.columns)))\n",
    "print(\"\\nStats of 'Purchase' Variable:-\\n{}\".format(train['Purchase'].describe()))"
   ]
  },
  {
   "cell_type": "code",
   "execution_count": 8,
   "metadata": {},
   "outputs": [
    {
     "data": {
      "text/plain": [
       "User_ID                         int64\n",
       "Product_ID                     object\n",
       "Gender                         object\n",
       "Age                            object\n",
       "Occupation                      int64\n",
       "City_Category                  object\n",
       "Stay_In_Current_City_Years     object\n",
       "Marital_Status                  int64\n",
       "Product_Category_1              int64\n",
       "Product_Category_2            float64\n",
       "Product_Category_3            float64\n",
       "Purchase                        int64\n",
       "dtype: object"
      ]
     },
     "execution_count": 8,
     "metadata": {},
     "output_type": "execute_result"
    }
   ],
   "source": [
    "# Looking at the dypes\n",
    "\n",
    "train.dtypes"
   ]
  },
  {
   "cell_type": "code",
   "execution_count": 9,
   "metadata": {},
   "outputs": [
    {
     "name": "stdout",
     "output_type": "stream",
     "text": [
      "Categorical Features:-\n",
      "['Product_ID' 'Gender' 'Age' 'City_Category' 'Stay_In_Current_City_Years']\n",
      "\n",
      "Numerical Features:-\n",
      "['User_ID' 'Occupation' 'Marital_Status' 'Product_Category_1'\n",
      " 'Product_Category_2' 'Product_Category_3' 'Purchase']\n"
     ]
    }
   ],
   "source": [
    "# Categorical Features\n",
    "print(\"Categorical Features:-\\n{}\".format(np.array(train.dtypes[train.dtypes == 'object'].index)))\n",
    "\n",
    "# Numerical Features\n",
    "print(\"\\nNumerical Features:-\\n{}\".format(np.array(train.dtypes[train.dtypes != 'object'].index)))"
   ]
  },
  {
   "cell_type": "code",
   "execution_count": 10,
   "metadata": {
    "scrolled": true
   },
   "outputs": [
    {
     "data": {
      "text/html": [
       "<div>\n",
       "<style>\n",
       "    .dataframe thead tr:only-child th {\n",
       "        text-align: right;\n",
       "    }\n",
       "\n",
       "    .dataframe thead th {\n",
       "        text-align: left;\n",
       "    }\n",
       "\n",
       "    .dataframe tbody tr th {\n",
       "        vertical-align: top;\n",
       "    }\n",
       "</style>\n",
       "<table border=\"1\" class=\"dataframe\">\n",
       "  <thead>\n",
       "    <tr style=\"text-align: right;\">\n",
       "      <th></th>\n",
       "      <th>User_ID</th>\n",
       "      <th>Product_ID</th>\n",
       "      <th>Gender</th>\n",
       "      <th>Age</th>\n",
       "      <th>Occupation</th>\n",
       "      <th>City_Cat</th>\n",
       "      <th>City_Stay</th>\n",
       "      <th>Marital_Status</th>\n",
       "      <th>Prod_Cat1</th>\n",
       "      <th>Prod_Cat2</th>\n",
       "      <th>Prod_Cat3</th>\n",
       "      <th>Purchase</th>\n",
       "    </tr>\n",
       "  </thead>\n",
       "  <tbody>\n",
       "    <tr>\n",
       "      <th>0</th>\n",
       "      <td>1000001</td>\n",
       "      <td>P00069042</td>\n",
       "      <td>F</td>\n",
       "      <td>0-17</td>\n",
       "      <td>10</td>\n",
       "      <td>A</td>\n",
       "      <td>2</td>\n",
       "      <td>0</td>\n",
       "      <td>3</td>\n",
       "      <td>NaN</td>\n",
       "      <td>NaN</td>\n",
       "      <td>8370</td>\n",
       "    </tr>\n",
       "    <tr>\n",
       "      <th>1</th>\n",
       "      <td>1000001</td>\n",
       "      <td>P00248942</td>\n",
       "      <td>F</td>\n",
       "      <td>0-17</td>\n",
       "      <td>10</td>\n",
       "      <td>A</td>\n",
       "      <td>2</td>\n",
       "      <td>0</td>\n",
       "      <td>1</td>\n",
       "      <td>6.0</td>\n",
       "      <td>14.0</td>\n",
       "      <td>15200</td>\n",
       "    </tr>\n",
       "    <tr>\n",
       "      <th>2</th>\n",
       "      <td>1000001</td>\n",
       "      <td>P00087842</td>\n",
       "      <td>F</td>\n",
       "      <td>0-17</td>\n",
       "      <td>10</td>\n",
       "      <td>A</td>\n",
       "      <td>2</td>\n",
       "      <td>0</td>\n",
       "      <td>12</td>\n",
       "      <td>NaN</td>\n",
       "      <td>NaN</td>\n",
       "      <td>1422</td>\n",
       "    </tr>\n",
       "    <tr>\n",
       "      <th>3</th>\n",
       "      <td>1000001</td>\n",
       "      <td>P00085442</td>\n",
       "      <td>F</td>\n",
       "      <td>0-17</td>\n",
       "      <td>10</td>\n",
       "      <td>A</td>\n",
       "      <td>2</td>\n",
       "      <td>0</td>\n",
       "      <td>12</td>\n",
       "      <td>14.0</td>\n",
       "      <td>NaN</td>\n",
       "      <td>1057</td>\n",
       "    </tr>\n",
       "    <tr>\n",
       "      <th>4</th>\n",
       "      <td>1000002</td>\n",
       "      <td>P00285442</td>\n",
       "      <td>M</td>\n",
       "      <td>55+</td>\n",
       "      <td>16</td>\n",
       "      <td>C</td>\n",
       "      <td>4+</td>\n",
       "      <td>0</td>\n",
       "      <td>8</td>\n",
       "      <td>NaN</td>\n",
       "      <td>NaN</td>\n",
       "      <td>7969</td>\n",
       "    </tr>\n",
       "  </tbody>\n",
       "</table>\n",
       "</div>"
      ],
      "text/plain": [
       "   User_ID Product_ID Gender   Age  Occupation City_Cat City_Stay  \\\n",
       "0  1000001  P00069042      F  0-17          10        A         2   \n",
       "1  1000001  P00248942      F  0-17          10        A         2   \n",
       "2  1000001  P00087842      F  0-17          10        A         2   \n",
       "3  1000001  P00085442      F  0-17          10        A         2   \n",
       "4  1000002  P00285442      M   55+          16        C        4+   \n",
       "\n",
       "   Marital_Status  Prod_Cat1  Prod_Cat2  Prod_Cat3  Purchase  \n",
       "0               0          3        NaN        NaN      8370  \n",
       "1               0          1        6.0       14.0     15200  \n",
       "2               0         12        NaN        NaN      1422  \n",
       "3               0         12       14.0        NaN      1057  \n",
       "4               0          8        NaN        NaN      7969  "
      ]
     },
     "execution_count": 10,
     "metadata": {},
     "output_type": "execute_result"
    }
   ],
   "source": [
    "# Renaming Columns\n",
    "\n",
    "my_cols = {'Stay_In_Current_City_Years': 'City_Stay', 'Product_Category_1': 'Prod_Cat1', \n",
    "           'Product_Category_2': 'Prod_Cat2', 'Product_Category_3': 'Prod_Cat3', 'City_Category': 'City_Cat'}\n",
    "\n",
    "train.rename(columns=my_cols, inplace=True)\n",
    "test.rename(columns=my_cols, inplace=True)\n",
    "\n",
    "train.head()"
   ]
  },
  {
   "cell_type": "markdown",
   "metadata": {},
   "source": [
    "---"
   ]
  },
  {
   "cell_type": "markdown",
   "metadata": {},
   "source": [
    "## Feature Engineering"
   ]
  },
  {
   "cell_type": "code",
   "execution_count": 11,
   "metadata": {},
   "outputs": [
    {
     "name": "stdout",
     "output_type": "stream",
     "text": [
      "Prod_Cat2 Null values 173638\n",
      "Percentage 31.5666426696 %\n",
      "\n",
      "Prod_Cat3 Null values 383247\n",
      "Percentage 69.6726586531 %\n"
     ]
    }
   ],
   "source": [
    "#############\n",
    "# NULL Values\n",
    "#############\n",
    "\n",
    "print(\"Prod_Cat2 Null values\", train['Prod_Cat2'].isnull().sum())\n",
    "print(\"Percentage\", (train['Prod_Cat2'].isnull().sum()/len(train)*100), \"%\")\n",
    "\n",
    "print(\"\\nProd_Cat3 Null values\", train['Prod_Cat3'].isnull().sum())\n",
    "print(\"Percentage\", (train['Prod_Cat3'].isnull().sum()/len(train)*100), \"%\")"
   ]
  },
  {
   "cell_type": "code",
   "execution_count": 12,
   "metadata": {
    "collapsed": true
   },
   "outputs": [],
   "source": [
    "### Dropping Prod_Cat2 and Prod_Cat3 (Because of High Percentage of Missing Values)\n",
    "\n",
    "train.drop(['Prod_Cat2', 'Prod_Cat3'], inplace=True, axis=1)\n",
    "test.drop(['Prod_Cat2', 'Prod_Cat3'], inplace=True, axis=1)"
   ]
  },
  {
   "cell_type": "code",
   "execution_count": 13,
   "metadata": {},
   "outputs": [
    {
     "data": {
      "text/html": [
       "<div>\n",
       "<style>\n",
       "    .dataframe thead tr:only-child th {\n",
       "        text-align: right;\n",
       "    }\n",
       "\n",
       "    .dataframe thead th {\n",
       "        text-align: left;\n",
       "    }\n",
       "\n",
       "    .dataframe tbody tr th {\n",
       "        vertical-align: top;\n",
       "    }\n",
       "</style>\n",
       "<table border=\"1\" class=\"dataframe\">\n",
       "  <thead>\n",
       "    <tr style=\"text-align: right;\">\n",
       "      <th></th>\n",
       "      <th>User_ID</th>\n",
       "      <th>Product_ID</th>\n",
       "      <th>Gender</th>\n",
       "      <th>Age</th>\n",
       "      <th>Occupation</th>\n",
       "      <th>City_Cat</th>\n",
       "      <th>City_Stay</th>\n",
       "      <th>Marital_Status</th>\n",
       "      <th>Prod_Cat1</th>\n",
       "      <th>Purchase</th>\n",
       "    </tr>\n",
       "  </thead>\n",
       "  <tbody>\n",
       "    <tr>\n",
       "      <th>0</th>\n",
       "      <td>1000001</td>\n",
       "      <td>P00069042</td>\n",
       "      <td>F</td>\n",
       "      <td>0-17</td>\n",
       "      <td>10</td>\n",
       "      <td>A</td>\n",
       "      <td>2</td>\n",
       "      <td>0</td>\n",
       "      <td>3</td>\n",
       "      <td>8370</td>\n",
       "    </tr>\n",
       "    <tr>\n",
       "      <th>1</th>\n",
       "      <td>1000001</td>\n",
       "      <td>P00248942</td>\n",
       "      <td>F</td>\n",
       "      <td>0-17</td>\n",
       "      <td>10</td>\n",
       "      <td>A</td>\n",
       "      <td>2</td>\n",
       "      <td>0</td>\n",
       "      <td>1</td>\n",
       "      <td>15200</td>\n",
       "    </tr>\n",
       "    <tr>\n",
       "      <th>2</th>\n",
       "      <td>1000001</td>\n",
       "      <td>P00087842</td>\n",
       "      <td>F</td>\n",
       "      <td>0-17</td>\n",
       "      <td>10</td>\n",
       "      <td>A</td>\n",
       "      <td>2</td>\n",
       "      <td>0</td>\n",
       "      <td>12</td>\n",
       "      <td>1422</td>\n",
       "    </tr>\n",
       "    <tr>\n",
       "      <th>3</th>\n",
       "      <td>1000001</td>\n",
       "      <td>P00085442</td>\n",
       "      <td>F</td>\n",
       "      <td>0-17</td>\n",
       "      <td>10</td>\n",
       "      <td>A</td>\n",
       "      <td>2</td>\n",
       "      <td>0</td>\n",
       "      <td>12</td>\n",
       "      <td>1057</td>\n",
       "    </tr>\n",
       "    <tr>\n",
       "      <th>4</th>\n",
       "      <td>1000002</td>\n",
       "      <td>P00285442</td>\n",
       "      <td>M</td>\n",
       "      <td>55+</td>\n",
       "      <td>16</td>\n",
       "      <td>C</td>\n",
       "      <td>4+</td>\n",
       "      <td>0</td>\n",
       "      <td>8</td>\n",
       "      <td>7969</td>\n",
       "    </tr>\n",
       "  </tbody>\n",
       "</table>\n",
       "</div>"
      ],
      "text/plain": [
       "   User_ID Product_ID Gender   Age  Occupation City_Cat City_Stay  \\\n",
       "0  1000001  P00069042      F  0-17          10        A         2   \n",
       "1  1000001  P00248942      F  0-17          10        A         2   \n",
       "2  1000001  P00087842      F  0-17          10        A         2   \n",
       "3  1000001  P00085442      F  0-17          10        A         2   \n",
       "4  1000002  P00285442      M   55+          16        C        4+   \n",
       "\n",
       "   Marital_Status  Prod_Cat1  Purchase  \n",
       "0               0          3      8370  \n",
       "1               0          1     15200  \n",
       "2               0         12      1422  \n",
       "3               0         12      1057  \n",
       "4               0          8      7969  "
      ]
     },
     "execution_count": 13,
     "metadata": {},
     "output_type": "execute_result"
    }
   ],
   "source": [
    "train.head()"
   ]
  },
  {
   "cell_type": "markdown",
   "metadata": {},
   "source": [
    "---"
   ]
  },
  {
   "cell_type": "code",
   "execution_count": null,
   "metadata": {
    "collapsed": true
   },
   "outputs": [],
   "source": [
    "### Age Variable"
   ]
  },
  {
   "cell_type": "code",
   "execution_count": 14,
   "metadata": {},
   "outputs": [
    {
     "data": {
      "text/plain": [
       "26-35    219587\n",
       "36-45    110013\n",
       "18-25     99660\n",
       "46-50     45701\n",
       "51-55     38501\n",
       "55+       21504\n",
       "0-17      15102\n",
       "Name: Age, dtype: int64"
      ]
     },
     "execution_count": 14,
     "metadata": {},
     "output_type": "execute_result"
    }
   ],
   "source": [
    "train['Age'].value_counts()"
   ]
  },
  {
   "cell_type": "code",
   "execution_count": 15,
   "metadata": {
    "collapsed": true,
    "scrolled": true
   },
   "outputs": [],
   "source": [
    "age_dict = {'26-35': 30, '36-45': 38, '46-50': 48, '18-25': 21, '51-55': 53, '55+': 60, '0-17': 15}\n",
    "\n",
    "train['Age'] = train['Age'].apply(lambda i: age_dict[i])\n",
    "test['Age'] = test['Age'].apply(lambda i: age_dict[i])"
   ]
  },
  {
   "cell_type": "code",
   "execution_count": 16,
   "metadata": {},
   "outputs": [
    {
     "data": {
      "text/plain": [
       "30    219587\n",
       "38    110013\n",
       "21     99660\n",
       "48     45701\n",
       "53     38501\n",
       "60     21504\n",
       "15     15102\n",
       "Name: Age, dtype: int64"
      ]
     },
     "execution_count": 16,
     "metadata": {},
     "output_type": "execute_result"
    }
   ],
   "source": [
    "train.Age.value_counts()"
   ]
  },
  {
   "cell_type": "markdown",
   "metadata": {},
   "source": [
    "---"
   ]
  },
  {
   "cell_type": "code",
   "execution_count": null,
   "metadata": {
    "collapsed": true
   },
   "outputs": [],
   "source": [
    "### Gender Variable"
   ]
  },
  {
   "cell_type": "code",
   "execution_count": 17,
   "metadata": {},
   "outputs": [
    {
     "data": {
      "text/plain": [
       "M    414259\n",
       "F    135809\n",
       "Name: Gender, dtype: int64"
      ]
     },
     "execution_count": 17,
     "metadata": {},
     "output_type": "execute_result"
    }
   ],
   "source": [
    "train.Gender.value_counts()"
   ]
  },
  {
   "cell_type": "code",
   "execution_count": 18,
   "metadata": {
    "collapsed": true
   },
   "outputs": [],
   "source": [
    "gender_dict = {'M': 1, 'F': 0}\n",
    "\n",
    "train['Gender'] = train['Gender'].apply(lambda i: gender_dict[i])\n",
    "test['Gender'] = test['Gender'].apply(lambda i: gender_dict[i])"
   ]
  },
  {
   "cell_type": "code",
   "execution_count": 19,
   "metadata": {},
   "outputs": [
    {
     "data": {
      "text/plain": [
       "1    414259\n",
       "0    135809\n",
       "Name: Gender, dtype: int64"
      ]
     },
     "execution_count": 19,
     "metadata": {},
     "output_type": "execute_result"
    }
   ],
   "source": [
    "train.Gender.value_counts()"
   ]
  },
  {
   "cell_type": "markdown",
   "metadata": {},
   "source": [
    "---"
   ]
  },
  {
   "cell_type": "code",
   "execution_count": null,
   "metadata": {
    "collapsed": true
   },
   "outputs": [],
   "source": [
    "### City_Category Variable"
   ]
  },
  {
   "cell_type": "code",
   "execution_count": 20,
   "metadata": {},
   "outputs": [
    {
     "data": {
      "text/plain": [
       "B    231173\n",
       "C    171175\n",
       "A    147720\n",
       "Name: City_Cat, dtype: int64"
      ]
     },
     "execution_count": 20,
     "metadata": {},
     "output_type": "execute_result"
    }
   ],
   "source": [
    "train['City_Cat'].value_counts()"
   ]
  },
  {
   "cell_type": "code",
   "execution_count": 21,
   "metadata": {
    "collapsed": true,
    "scrolled": true
   },
   "outputs": [],
   "source": [
    "train = pd.get_dummies(train, columns=['City_Cat'], drop_first=True)\n",
    "test = pd.get_dummies(test, columns=['City_Cat'], drop_first=True)"
   ]
  },
  {
   "cell_type": "code",
   "execution_count": 22,
   "metadata": {},
   "outputs": [
    {
     "data": {
      "text/html": [
       "<div>\n",
       "<style>\n",
       "    .dataframe thead tr:only-child th {\n",
       "        text-align: right;\n",
       "    }\n",
       "\n",
       "    .dataframe thead th {\n",
       "        text-align: left;\n",
       "    }\n",
       "\n",
       "    .dataframe tbody tr th {\n",
       "        vertical-align: top;\n",
       "    }\n",
       "</style>\n",
       "<table border=\"1\" class=\"dataframe\">\n",
       "  <thead>\n",
       "    <tr style=\"text-align: right;\">\n",
       "      <th></th>\n",
       "      <th>User_ID</th>\n",
       "      <th>Product_ID</th>\n",
       "      <th>Gender</th>\n",
       "      <th>Age</th>\n",
       "      <th>Occupation</th>\n",
       "      <th>City_Stay</th>\n",
       "      <th>Marital_Status</th>\n",
       "      <th>Prod_Cat1</th>\n",
       "      <th>Purchase</th>\n",
       "      <th>City_Cat_B</th>\n",
       "      <th>City_Cat_C</th>\n",
       "    </tr>\n",
       "  </thead>\n",
       "  <tbody>\n",
       "    <tr>\n",
       "      <th>0</th>\n",
       "      <td>1000001</td>\n",
       "      <td>P00069042</td>\n",
       "      <td>0</td>\n",
       "      <td>15</td>\n",
       "      <td>10</td>\n",
       "      <td>2</td>\n",
       "      <td>0</td>\n",
       "      <td>3</td>\n",
       "      <td>8370</td>\n",
       "      <td>0</td>\n",
       "      <td>0</td>\n",
       "    </tr>\n",
       "    <tr>\n",
       "      <th>1</th>\n",
       "      <td>1000001</td>\n",
       "      <td>P00248942</td>\n",
       "      <td>0</td>\n",
       "      <td>15</td>\n",
       "      <td>10</td>\n",
       "      <td>2</td>\n",
       "      <td>0</td>\n",
       "      <td>1</td>\n",
       "      <td>15200</td>\n",
       "      <td>0</td>\n",
       "      <td>0</td>\n",
       "    </tr>\n",
       "    <tr>\n",
       "      <th>2</th>\n",
       "      <td>1000001</td>\n",
       "      <td>P00087842</td>\n",
       "      <td>0</td>\n",
       "      <td>15</td>\n",
       "      <td>10</td>\n",
       "      <td>2</td>\n",
       "      <td>0</td>\n",
       "      <td>12</td>\n",
       "      <td>1422</td>\n",
       "      <td>0</td>\n",
       "      <td>0</td>\n",
       "    </tr>\n",
       "    <tr>\n",
       "      <th>3</th>\n",
       "      <td>1000001</td>\n",
       "      <td>P00085442</td>\n",
       "      <td>0</td>\n",
       "      <td>15</td>\n",
       "      <td>10</td>\n",
       "      <td>2</td>\n",
       "      <td>0</td>\n",
       "      <td>12</td>\n",
       "      <td>1057</td>\n",
       "      <td>0</td>\n",
       "      <td>0</td>\n",
       "    </tr>\n",
       "    <tr>\n",
       "      <th>4</th>\n",
       "      <td>1000002</td>\n",
       "      <td>P00285442</td>\n",
       "      <td>1</td>\n",
       "      <td>60</td>\n",
       "      <td>16</td>\n",
       "      <td>4+</td>\n",
       "      <td>0</td>\n",
       "      <td>8</td>\n",
       "      <td>7969</td>\n",
       "      <td>0</td>\n",
       "      <td>1</td>\n",
       "    </tr>\n",
       "  </tbody>\n",
       "</table>\n",
       "</div>"
      ],
      "text/plain": [
       "   User_ID Product_ID  Gender  Age  Occupation City_Stay  Marital_Status  \\\n",
       "0  1000001  P00069042       0   15          10         2               0   \n",
       "1  1000001  P00248942       0   15          10         2               0   \n",
       "2  1000001  P00087842       0   15          10         2               0   \n",
       "3  1000001  P00085442       0   15          10         2               0   \n",
       "4  1000002  P00285442       1   60          16        4+               0   \n",
       "\n",
       "   Prod_Cat1  Purchase  City_Cat_B  City_Cat_C  \n",
       "0          3      8370           0           0  \n",
       "1          1     15200           0           0  \n",
       "2         12      1422           0           0  \n",
       "3         12      1057           0           0  \n",
       "4          8      7969           0           1  "
      ]
     },
     "execution_count": 22,
     "metadata": {},
     "output_type": "execute_result"
    }
   ],
   "source": [
    "train.head()"
   ]
  },
  {
   "cell_type": "markdown",
   "metadata": {},
   "source": [
    "---"
   ]
  },
  {
   "cell_type": "code",
   "execution_count": null,
   "metadata": {
    "collapsed": true
   },
   "outputs": [],
   "source": [
    "### Curr_City_Stay Variable"
   ]
  },
  {
   "cell_type": "code",
   "execution_count": 23,
   "metadata": {},
   "outputs": [
    {
     "data": {
      "text/plain": [
       "1     193821\n",
       "2     101838\n",
       "3      95285\n",
       "4+     84726\n",
       "0      74398\n",
       "Name: City_Stay, dtype: int64"
      ]
     },
     "execution_count": 23,
     "metadata": {},
     "output_type": "execute_result"
    }
   ],
   "source": [
    "train.City_Stay.value_counts()"
   ]
  },
  {
   "cell_type": "code",
   "execution_count": 24,
   "metadata": {
    "collapsed": true
   },
   "outputs": [],
   "source": [
    "City_Stay_dict = {'0':0, '1':1, '2':2, '3':3, '4+':4}\n",
    "\n",
    "train['City_Stay'] = train['City_Stay'].apply(lambda i: City_Stay_dict[i])\n",
    "test['City_Stay'] = test['City_Stay'].apply(lambda i: City_Stay_dict[i])"
   ]
  },
  {
   "cell_type": "code",
   "execution_count": 25,
   "metadata": {},
   "outputs": [
    {
     "data": {
      "text/html": [
       "<div>\n",
       "<style>\n",
       "    .dataframe thead tr:only-child th {\n",
       "        text-align: right;\n",
       "    }\n",
       "\n",
       "    .dataframe thead th {\n",
       "        text-align: left;\n",
       "    }\n",
       "\n",
       "    .dataframe tbody tr th {\n",
       "        vertical-align: top;\n",
       "    }\n",
       "</style>\n",
       "<table border=\"1\" class=\"dataframe\">\n",
       "  <thead>\n",
       "    <tr style=\"text-align: right;\">\n",
       "      <th></th>\n",
       "      <th>User_ID</th>\n",
       "      <th>Product_ID</th>\n",
       "      <th>Gender</th>\n",
       "      <th>Age</th>\n",
       "      <th>Occupation</th>\n",
       "      <th>City_Stay</th>\n",
       "      <th>Marital_Status</th>\n",
       "      <th>Prod_Cat1</th>\n",
       "      <th>Purchase</th>\n",
       "      <th>City_Cat_B</th>\n",
       "      <th>City_Cat_C</th>\n",
       "    </tr>\n",
       "  </thead>\n",
       "  <tbody>\n",
       "    <tr>\n",
       "      <th>0</th>\n",
       "      <td>1000001</td>\n",
       "      <td>P00069042</td>\n",
       "      <td>0</td>\n",
       "      <td>15</td>\n",
       "      <td>10</td>\n",
       "      <td>2</td>\n",
       "      <td>0</td>\n",
       "      <td>3</td>\n",
       "      <td>8370</td>\n",
       "      <td>0</td>\n",
       "      <td>0</td>\n",
       "    </tr>\n",
       "    <tr>\n",
       "      <th>1</th>\n",
       "      <td>1000001</td>\n",
       "      <td>P00248942</td>\n",
       "      <td>0</td>\n",
       "      <td>15</td>\n",
       "      <td>10</td>\n",
       "      <td>2</td>\n",
       "      <td>0</td>\n",
       "      <td>1</td>\n",
       "      <td>15200</td>\n",
       "      <td>0</td>\n",
       "      <td>0</td>\n",
       "    </tr>\n",
       "    <tr>\n",
       "      <th>2</th>\n",
       "      <td>1000001</td>\n",
       "      <td>P00087842</td>\n",
       "      <td>0</td>\n",
       "      <td>15</td>\n",
       "      <td>10</td>\n",
       "      <td>2</td>\n",
       "      <td>0</td>\n",
       "      <td>12</td>\n",
       "      <td>1422</td>\n",
       "      <td>0</td>\n",
       "      <td>0</td>\n",
       "    </tr>\n",
       "    <tr>\n",
       "      <th>3</th>\n",
       "      <td>1000001</td>\n",
       "      <td>P00085442</td>\n",
       "      <td>0</td>\n",
       "      <td>15</td>\n",
       "      <td>10</td>\n",
       "      <td>2</td>\n",
       "      <td>0</td>\n",
       "      <td>12</td>\n",
       "      <td>1057</td>\n",
       "      <td>0</td>\n",
       "      <td>0</td>\n",
       "    </tr>\n",
       "    <tr>\n",
       "      <th>4</th>\n",
       "      <td>1000002</td>\n",
       "      <td>P00285442</td>\n",
       "      <td>1</td>\n",
       "      <td>60</td>\n",
       "      <td>16</td>\n",
       "      <td>4</td>\n",
       "      <td>0</td>\n",
       "      <td>8</td>\n",
       "      <td>7969</td>\n",
       "      <td>0</td>\n",
       "      <td>1</td>\n",
       "    </tr>\n",
       "  </tbody>\n",
       "</table>\n",
       "</div>"
      ],
      "text/plain": [
       "   User_ID Product_ID  Gender  Age  Occupation  City_Stay  Marital_Status  \\\n",
       "0  1000001  P00069042       0   15          10          2               0   \n",
       "1  1000001  P00248942       0   15          10          2               0   \n",
       "2  1000001  P00087842       0   15          10          2               0   \n",
       "3  1000001  P00085442       0   15          10          2               0   \n",
       "4  1000002  P00285442       1   60          16          4               0   \n",
       "\n",
       "   Prod_Cat1  Purchase  City_Cat_B  City_Cat_C  \n",
       "0          3      8370           0           0  \n",
       "1          1     15200           0           0  \n",
       "2         12      1422           0           0  \n",
       "3         12      1057           0           0  \n",
       "4          8      7969           0           1  "
      ]
     },
     "execution_count": 25,
     "metadata": {},
     "output_type": "execute_result"
    }
   ],
   "source": [
    "train.head()"
   ]
  },
  {
   "cell_type": "markdown",
   "metadata": {},
   "source": [
    "---"
   ]
  },
  {
   "cell_type": "code",
   "execution_count": null,
   "metadata": {
    "collapsed": true
   },
   "outputs": [],
   "source": [
    "### User_ID Variable"
   ]
  },
  {
   "cell_type": "code",
   "execution_count": 26,
   "metadata": {},
   "outputs": [
    {
     "data": {
      "text/plain": [
       "5891"
      ]
     },
     "execution_count": 26,
     "metadata": {},
     "output_type": "execute_result"
    }
   ],
   "source": [
    "len(train.User_ID.unique())         # Tota number of Unique User_ID = 5891"
   ]
  },
  {
   "cell_type": "code",
   "execution_count": 27,
   "metadata": {
    "collapsed": true
   },
   "outputs": [],
   "source": [
    "# Label Encoding User_IDs\n",
    "\n",
    "le = LabelEncoder()\n",
    "train['User_ID'] = le.fit_transform(train['User_ID'])\n",
    "test['User_ID'] = le.transform(test['User_ID'])"
   ]
  },
  {
   "cell_type": "markdown",
   "metadata": {},
   "source": [
    "---"
   ]
  },
  {
   "cell_type": "code",
   "execution_count": null,
   "metadata": {
    "collapsed": true
   },
   "outputs": [],
   "source": [
    "#### Product_ID Variable"
   ]
  },
  {
   "cell_type": "code",
   "execution_count": 28,
   "metadata": {},
   "outputs": [
    {
     "name": "stdout",
     "output_type": "stream",
     "text": [
      "Train Set(Unique ID): 3631\n",
      "Test Set(Unique ID): 3491\n"
     ]
    }
   ],
   "source": [
    "print(\"Train Set(Unique ID):\", len(train.Product_ID.unique()))  # 3631 unique values in train - Product_ID\n",
    "\n",
    "print(\"Test Set(Unique ID):\", len(test.Product_ID.unique()))    # 3491 unique values in train - Product_ID"
   ]
  },
  {
   "cell_type": "code",
   "execution_count": 29,
   "metadata": {
    "collapsed": true,
    "scrolled": true
   },
   "outputs": [],
   "source": [
    "# New Product IDs which are in Test set But not in Train set\n",
    "\n",
    "New_Product_IDs = list(set(test.Product_ID.unique()) - set(train.Product_ID.unique()))"
   ]
  },
  {
   "cell_type": "code",
   "execution_count": 30,
   "metadata": {
    "collapsed": true,
    "scrolled": true
   },
   "outputs": [],
   "source": [
    "# Label Encoding Product_IDs\n",
    "\n",
    "le = LabelEncoder()\n",
    "\n",
    "train['Product_ID'] = le.fit_transform(train['Product_ID'])               # Transform the Train Product_IDs\n",
    "\n",
    "test.ix[test['Product_ID'].isin(New_Product_IDs), 'Product_ID'] = -1      # New Product_IDs in Test are set to -1\n",
    "New_Product_IDs.append(-1)                                                # Append -1 to New_Product_IDs\n",
    "\n",
    "test.ix[~test['Product_ID'].isin(New_Product_IDs), 'Product_ID'] = \\\n",
    "le.transform(test.ix[~test['Product_ID'].isin(New_Product_IDs), 'Product_ID'])  # Product_IDs in Test which are in Train\n",
    "                                                                                # are transformed according to Train_Data"
   ]
  },
  {
   "cell_type": "code",
   "execution_count": 31,
   "metadata": {},
   "outputs": [
    {
     "data": {
      "text/html": [
       "<div>\n",
       "<style>\n",
       "    .dataframe thead tr:only-child th {\n",
       "        text-align: right;\n",
       "    }\n",
       "\n",
       "    .dataframe thead th {\n",
       "        text-align: left;\n",
       "    }\n",
       "\n",
       "    .dataframe tbody tr th {\n",
       "        vertical-align: top;\n",
       "    }\n",
       "</style>\n",
       "<table border=\"1\" class=\"dataframe\">\n",
       "  <thead>\n",
       "    <tr style=\"text-align: right;\">\n",
       "      <th></th>\n",
       "      <th>User_ID</th>\n",
       "      <th>Product_ID</th>\n",
       "      <th>Gender</th>\n",
       "      <th>Age</th>\n",
       "      <th>Occupation</th>\n",
       "      <th>City_Stay</th>\n",
       "      <th>Marital_Status</th>\n",
       "      <th>Prod_Cat1</th>\n",
       "      <th>Purchase</th>\n",
       "      <th>City_Cat_B</th>\n",
       "      <th>City_Cat_C</th>\n",
       "    </tr>\n",
       "  </thead>\n",
       "  <tbody>\n",
       "    <tr>\n",
       "      <th>0</th>\n",
       "      <td>0</td>\n",
       "      <td>672</td>\n",
       "      <td>0</td>\n",
       "      <td>15</td>\n",
       "      <td>10</td>\n",
       "      <td>2</td>\n",
       "      <td>0</td>\n",
       "      <td>3</td>\n",
       "      <td>8370</td>\n",
       "      <td>0</td>\n",
       "      <td>0</td>\n",
       "    </tr>\n",
       "    <tr>\n",
       "      <th>1</th>\n",
       "      <td>0</td>\n",
       "      <td>2376</td>\n",
       "      <td>0</td>\n",
       "      <td>15</td>\n",
       "      <td>10</td>\n",
       "      <td>2</td>\n",
       "      <td>0</td>\n",
       "      <td>1</td>\n",
       "      <td>15200</td>\n",
       "      <td>0</td>\n",
       "      <td>0</td>\n",
       "    </tr>\n",
       "    <tr>\n",
       "      <th>2</th>\n",
       "      <td>0</td>\n",
       "      <td>852</td>\n",
       "      <td>0</td>\n",
       "      <td>15</td>\n",
       "      <td>10</td>\n",
       "      <td>2</td>\n",
       "      <td>0</td>\n",
       "      <td>12</td>\n",
       "      <td>1422</td>\n",
       "      <td>0</td>\n",
       "      <td>0</td>\n",
       "    </tr>\n",
       "    <tr>\n",
       "      <th>3</th>\n",
       "      <td>0</td>\n",
       "      <td>828</td>\n",
       "      <td>0</td>\n",
       "      <td>15</td>\n",
       "      <td>10</td>\n",
       "      <td>2</td>\n",
       "      <td>0</td>\n",
       "      <td>12</td>\n",
       "      <td>1057</td>\n",
       "      <td>0</td>\n",
       "      <td>0</td>\n",
       "    </tr>\n",
       "    <tr>\n",
       "      <th>4</th>\n",
       "      <td>1</td>\n",
       "      <td>2734</td>\n",
       "      <td>1</td>\n",
       "      <td>60</td>\n",
       "      <td>16</td>\n",
       "      <td>4</td>\n",
       "      <td>0</td>\n",
       "      <td>8</td>\n",
       "      <td>7969</td>\n",
       "      <td>0</td>\n",
       "      <td>1</td>\n",
       "    </tr>\n",
       "  </tbody>\n",
       "</table>\n",
       "</div>"
      ],
      "text/plain": [
       "   User_ID  Product_ID  Gender  Age  Occupation  City_Stay  Marital_Status  \\\n",
       "0        0         672       0   15          10          2               0   \n",
       "1        0        2376       0   15          10          2               0   \n",
       "2        0         852       0   15          10          2               0   \n",
       "3        0         828       0   15          10          2               0   \n",
       "4        1        2734       1   60          16          4               0   \n",
       "\n",
       "   Prod_Cat1  Purchase  City_Cat_B  City_Cat_C  \n",
       "0          3      8370           0           0  \n",
       "1          1     15200           0           0  \n",
       "2         12      1422           0           0  \n",
       "3         12      1057           0           0  \n",
       "4          8      7969           0           1  "
      ]
     },
     "execution_count": 31,
     "metadata": {},
     "output_type": "execute_result"
    }
   ],
   "source": [
    "train.head()        # 46 new product ids in test set and 186 products absent in test"
   ]
  },
  {
   "cell_type": "markdown",
   "metadata": {},
   "source": [
    "---"
   ]
  },
  {
   "cell_type": "code",
   "execution_count": null,
   "metadata": {
    "collapsed": true
   },
   "outputs": [],
   "source": [
    "### Purchase Variable"
   ]
  },
  {
   "cell_type": "code",
   "execution_count": 32,
   "metadata": {
    "collapsed": true
   },
   "outputs": [],
   "source": [
    "# Reducing boundaries to decrease RMSE\n",
    "\n",
    "cutoff_purchase = np.percentile(train['Purchase'], 99.9)    # 99.9 percentile\n",
    "train.ix[train['Purchase'] > cutoff_purchase, 'Purchase'] = cutoff_purchase"
   ]
  },
  {
   "cell_type": "code",
   "execution_count": 33,
   "metadata": {},
   "outputs": [
    {
     "data": {
      "text/html": [
       "<div>\n",
       "<style>\n",
       "    .dataframe thead tr:only-child th {\n",
       "        text-align: right;\n",
       "    }\n",
       "\n",
       "    .dataframe thead th {\n",
       "        text-align: left;\n",
       "    }\n",
       "\n",
       "    .dataframe tbody tr th {\n",
       "        vertical-align: top;\n",
       "    }\n",
       "</style>\n",
       "<table border=\"1\" class=\"dataframe\">\n",
       "  <thead>\n",
       "    <tr style=\"text-align: right;\">\n",
       "      <th></th>\n",
       "      <th>User_ID</th>\n",
       "      <th>Product_ID</th>\n",
       "      <th>Gender</th>\n",
       "      <th>Age</th>\n",
       "      <th>Occupation</th>\n",
       "      <th>City_Stay</th>\n",
       "      <th>Marital_Status</th>\n",
       "      <th>Prod_Cat1</th>\n",
       "      <th>Purchase</th>\n",
       "      <th>City_Cat_B</th>\n",
       "      <th>City_Cat_C</th>\n",
       "    </tr>\n",
       "  </thead>\n",
       "  <tbody>\n",
       "    <tr>\n",
       "      <th>0</th>\n",
       "      <td>0</td>\n",
       "      <td>672</td>\n",
       "      <td>0</td>\n",
       "      <td>15</td>\n",
       "      <td>10</td>\n",
       "      <td>2</td>\n",
       "      <td>0</td>\n",
       "      <td>3</td>\n",
       "      <td>8370.0</td>\n",
       "      <td>0</td>\n",
       "      <td>0</td>\n",
       "    </tr>\n",
       "    <tr>\n",
       "      <th>1</th>\n",
       "      <td>0</td>\n",
       "      <td>2376</td>\n",
       "      <td>0</td>\n",
       "      <td>15</td>\n",
       "      <td>10</td>\n",
       "      <td>2</td>\n",
       "      <td>0</td>\n",
       "      <td>1</td>\n",
       "      <td>15200.0</td>\n",
       "      <td>0</td>\n",
       "      <td>0</td>\n",
       "    </tr>\n",
       "    <tr>\n",
       "      <th>2</th>\n",
       "      <td>0</td>\n",
       "      <td>852</td>\n",
       "      <td>0</td>\n",
       "      <td>15</td>\n",
       "      <td>10</td>\n",
       "      <td>2</td>\n",
       "      <td>0</td>\n",
       "      <td>12</td>\n",
       "      <td>1422.0</td>\n",
       "      <td>0</td>\n",
       "      <td>0</td>\n",
       "    </tr>\n",
       "    <tr>\n",
       "      <th>3</th>\n",
       "      <td>0</td>\n",
       "      <td>828</td>\n",
       "      <td>0</td>\n",
       "      <td>15</td>\n",
       "      <td>10</td>\n",
       "      <td>2</td>\n",
       "      <td>0</td>\n",
       "      <td>12</td>\n",
       "      <td>1057.0</td>\n",
       "      <td>0</td>\n",
       "      <td>0</td>\n",
       "    </tr>\n",
       "    <tr>\n",
       "      <th>4</th>\n",
       "      <td>1</td>\n",
       "      <td>2734</td>\n",
       "      <td>1</td>\n",
       "      <td>60</td>\n",
       "      <td>16</td>\n",
       "      <td>4</td>\n",
       "      <td>0</td>\n",
       "      <td>8</td>\n",
       "      <td>7969.0</td>\n",
       "      <td>0</td>\n",
       "      <td>1</td>\n",
       "    </tr>\n",
       "  </tbody>\n",
       "</table>\n",
       "</div>"
      ],
      "text/plain": [
       "   User_ID  Product_ID  Gender  Age  Occupation  City_Stay  Marital_Status  \\\n",
       "0        0         672       0   15          10          2               0   \n",
       "1        0        2376       0   15          10          2               0   \n",
       "2        0         852       0   15          10          2               0   \n",
       "3        0         828       0   15          10          2               0   \n",
       "4        1        2734       1   60          16          4               0   \n",
       "\n",
       "   Prod_Cat1  Purchase  City_Cat_B  City_Cat_C  \n",
       "0          3    8370.0           0           0  \n",
       "1          1   15200.0           0           0  \n",
       "2         12    1422.0           0           0  \n",
       "3         12    1057.0           0           0  \n",
       "4          8    7969.0           0           1  "
      ]
     },
     "execution_count": 33,
     "metadata": {},
     "output_type": "execute_result"
    }
   ],
   "source": [
    "train.head()"
   ]
  },
  {
   "cell_type": "code",
   "execution_count": 34,
   "metadata": {},
   "outputs": [
    {
     "data": {
      "text/html": [
       "<div>\n",
       "<style>\n",
       "    .dataframe thead tr:only-child th {\n",
       "        text-align: right;\n",
       "    }\n",
       "\n",
       "    .dataframe thead th {\n",
       "        text-align: left;\n",
       "    }\n",
       "\n",
       "    .dataframe tbody tr th {\n",
       "        vertical-align: top;\n",
       "    }\n",
       "</style>\n",
       "<table border=\"1\" class=\"dataframe\">\n",
       "  <thead>\n",
       "    <tr style=\"text-align: right;\">\n",
       "      <th></th>\n",
       "      <th>User_ID</th>\n",
       "      <th>Product_ID</th>\n",
       "      <th>Gender</th>\n",
       "      <th>Age</th>\n",
       "      <th>Occupation</th>\n",
       "      <th>City_Stay</th>\n",
       "      <th>Marital_Status</th>\n",
       "      <th>Prod_Cat1</th>\n",
       "      <th>City_Cat_B</th>\n",
       "      <th>City_Cat_C</th>\n",
       "    </tr>\n",
       "  </thead>\n",
       "  <tbody>\n",
       "    <tr>\n",
       "      <th>0</th>\n",
       "      <td>3</td>\n",
       "      <td>1196</td>\n",
       "      <td>1</td>\n",
       "      <td>48</td>\n",
       "      <td>7</td>\n",
       "      <td>2</td>\n",
       "      <td>1</td>\n",
       "      <td>1</td>\n",
       "      <td>1</td>\n",
       "      <td>0</td>\n",
       "    </tr>\n",
       "    <tr>\n",
       "      <th>1</th>\n",
       "      <td>8</td>\n",
       "      <td>1043</td>\n",
       "      <td>1</td>\n",
       "      <td>30</td>\n",
       "      <td>17</td>\n",
       "      <td>0</td>\n",
       "      <td>0</td>\n",
       "      <td>3</td>\n",
       "      <td>0</td>\n",
       "      <td>1</td>\n",
       "    </tr>\n",
       "    <tr>\n",
       "      <th>2</th>\n",
       "      <td>9</td>\n",
       "      <td>2764</td>\n",
       "      <td>0</td>\n",
       "      <td>38</td>\n",
       "      <td>1</td>\n",
       "      <td>4</td>\n",
       "      <td>1</td>\n",
       "      <td>5</td>\n",
       "      <td>1</td>\n",
       "      <td>0</td>\n",
       "    </tr>\n",
       "    <tr>\n",
       "      <th>3</th>\n",
       "      <td>9</td>\n",
       "      <td>1358</td>\n",
       "      <td>0</td>\n",
       "      <td>38</td>\n",
       "      <td>1</td>\n",
       "      <td>4</td>\n",
       "      <td>1</td>\n",
       "      <td>4</td>\n",
       "      <td>1</td>\n",
       "      <td>0</td>\n",
       "    </tr>\n",
       "    <tr>\n",
       "      <th>4</th>\n",
       "      <td>10</td>\n",
       "      <td>529</td>\n",
       "      <td>0</td>\n",
       "      <td>30</td>\n",
       "      <td>1</td>\n",
       "      <td>1</td>\n",
       "      <td>0</td>\n",
       "      <td>4</td>\n",
       "      <td>0</td>\n",
       "      <td>1</td>\n",
       "    </tr>\n",
       "  </tbody>\n",
       "</table>\n",
       "</div>"
      ],
      "text/plain": [
       "   User_ID  Product_ID  Gender  Age  Occupation  City_Stay  Marital_Status  \\\n",
       "0        3        1196       1   48           7          2               1   \n",
       "1        8        1043       1   30          17          0               0   \n",
       "2        9        2764       0   38           1          4               1   \n",
       "3        9        1358       0   38           1          4               1   \n",
       "4       10         529       0   30           1          1               0   \n",
       "\n",
       "   Prod_Cat1  City_Cat_B  City_Cat_C  \n",
       "0          1           1           0  \n",
       "1          3           0           1  \n",
       "2          5           1           0  \n",
       "3          4           1           0  \n",
       "4          4           0           1  "
      ]
     },
     "execution_count": 34,
     "metadata": {},
     "output_type": "execute_result"
    }
   ],
   "source": [
    "test.head()"
   ]
  },
  {
   "cell_type": "markdown",
   "metadata": {},
   "source": [
    "---"
   ]
  },
  {
   "cell_type": "code",
   "execution_count": null,
   "metadata": {
    "collapsed": true
   },
   "outputs": [],
   "source": [
    "####################################\n",
    "####### Count Features #############\n",
    "####################################\n",
    "\n",
    "\n",
    "### Counts the number of elements in that particular group \n",
    "\n",
    "# Eg. Age_Count contains the value counts of an age group:\n",
    "#     Like '0-17' -> 15102\n",
    "\n",
    "count_features = '''\n",
    "Age_Count\n",
    "Occupation_Count\n",
    "Product_Category_1_Count\n",
    "Product_Category_2_Count\n",
    "Product_Category_3_Count\n",
    "User_ID_Count\n",
    "Product_ID_Count\n",
    "'''"
   ]
  },
  {
   "cell_type": "code",
   "execution_count": 35,
   "metadata": {
    "collapsed": true
   },
   "outputs": [],
   "source": [
    "def getCountFeatures(compute_df, count_df, var_name):\n",
    "    \n",
    "    groups_dict = dict(count_df[var_name].value_counts())\n",
    "    \n",
    "    count_list = []\n",
    "    for index, row in compute_df.iterrows():\n",
    "        name = row[var_name]\n",
    "        count_list.append(groups_dict.get(name))\n",
    "    \n",
    "    return count_list"
   ]
  },
  {
   "cell_type": "code",
   "execution_count": 36,
   "metadata": {
    "collapsed": true
   },
   "outputs": [],
   "source": [
    "train[\"Age_Count\"] = getCountFeatures(train, train, \"Age\")\n",
    "test[\"Age_Count\"] = getCountFeatures(test, train, \"Age\")\n",
    "\n",
    "train[\"Occupation_Count\"] = getCountFeatures(train, train, \"Occupation\")\n",
    "test[\"Occupation_Count\"] = getCountFeatures(test, train, \"Occupation\")\n",
    "\n",
    "train[\"Prod_Cat1_Count\"] = getCountFeatures(train, train, \"Prod_Cat1\")\n",
    "test[\"Prod_Cat1_Count\"] = getCountFeatures(test, train, \"Prod_Cat1\")\n",
    "\n",
    "train[\"User_ID_Count\"] = getCountFeatures(train, train, \"User_ID\")\n",
    "test[\"User_ID_Count\"] = getCountFeatures(test, train, \"User_ID\")"
   ]
  },
  {
   "cell_type": "markdown",
   "metadata": {},
   "source": [
    "---"
   ]
  },
  {
   "cell_type": "code",
   "execution_count": null,
   "metadata": {
    "collapsed": true
   },
   "outputs": [],
   "source": [
    "####################################\n",
    "####### Price Features #############\n",
    "####################################\n",
    "\n",
    "\n",
    "price_features = '''\n",
    "MinPrice\n",
    "MaxPrice\n",
    "MeanPrice\n",
    "25PercPrice\n",
    "75PercPrice\n",
    "'''\n",
    "\n",
    "## For these variables:-\n",
    "# User_ID\n",
    "# Product_ID\n",
    "# Product_Category_1\n",
    "\n",
    "# For eg. Userer_ID_MinPrice, Product_ID_25PercPrice, etc."
   ]
  },
  {
   "cell_type": "code",
   "execution_count": 37,
   "metadata": {
    "collapsed": true
   },
   "outputs": [],
   "source": [
    "def getPurchaseVar(compute_df, purchase_df, var_name):\n",
    "    \n",
    "    group = purchase_df.groupby(var_name)['Purchase']\n",
    "    \n",
    "    max_dict = dict(group.max())\n",
    "    min_dict = dict(group.min())\n",
    "    mean_dict = dict(group.mean())\n",
    "    twentyfive_dict = dict(group.quantile(0.25))\n",
    "    seventyfive_dict = dict(group.quantile(0.75))\n",
    "        \n",
    "    min_list = []\n",
    "    max_list = []\n",
    "    mean_list = []\n",
    "    twentyfive_list = []\n",
    "    seventyfive_list = []\n",
    "        \n",
    "    for index, row in compute_df.iterrows():\n",
    "        name = row[var_name]\n",
    "        min_list.append(min_dict.get(name))\n",
    "        max_list.append(max_dict.get(name))\n",
    "        mean_list.append(mean_dict.get(name))\n",
    "        twentyfive_list.append(twentyfive_dict.get(name))\n",
    "        seventyfive_list.append(seventyfive_dict.get(name))\n",
    "\n",
    "    return min_list, max_list, mean_list, twentyfive_list, seventyfive_list"
   ]
  },
  {
   "cell_type": "code",
   "execution_count": 39,
   "metadata": {
    "collapsed": true
   },
   "outputs": [],
   "source": [
    "# User_ID\n",
    "\n",
    "min_price_list, max_price_list, mean_price_list, twentyfive_price_list, seventyfive_price_list = \\\n",
    "getPurchaseVar(train, train, \"User_ID\")\n",
    "        \n",
    "train[\"User_ID_MinPrice\"] = min_price_list\n",
    "train[\"User_ID_MaxPrice\"] = max_price_list\n",
    "train[\"User_ID_MeanPrice\"] = mean_price_list\n",
    "train[\"User_ID_25PercPrice\"] = twentyfive_price_list\n",
    "train[\"User_ID_75PercPrice\"] = seventyfive_price_list\n",
    "\n",
    "\n",
    "min_price_list, max_price_list, mean_price_list, twentyfive_price_list, seventyfive_price_list = \\\n",
    "getPurchaseVar(test, train, \"User_ID\")\n",
    "\n",
    "test[\"User_ID_MinPrice\"] = min_price_list\n",
    "test[\"User_ID_MaxPrice\"] = max_price_list\n",
    "test[\"User_ID_MeanPrice\"] = mean_price_list\n",
    "test[\"User_ID_25PercPrice\"] = twentyfive_price_list\n",
    "test[\"User_ID_75PercPrice\"] = seventyfive_price_list"
   ]
  },
  {
   "cell_type": "code",
   "execution_count": 41,
   "metadata": {
    "collapsed": true
   },
   "outputs": [],
   "source": [
    "# Product_ID\n",
    "\n",
    "min_price_list, max_price_list, mean_price_list, twentyfive_price_list, seventyfive_price_list = \\\n",
    "getPurchaseVar(train, train, \"Product_ID\")\n",
    "        \n",
    "train[\"Product_ID_MinPrice\"] = min_price_list\n",
    "train[\"Product_ID_MaxPrice\"] = max_price_list\n",
    "train[\"Product_ID_MeanPrice\"] = mean_price_list\n",
    "train[\"Product_ID_25PercPrice\"] = twentyfive_price_list\n",
    "train[\"Product_ID_75PercPrice\"] = seventyfive_price_list\n",
    "\n",
    "\n",
    "min_price_list, max_price_list, mean_price_list, twentyfive_price_list, seventyfive_price_list = \\\n",
    "getPurchaseVar(test, train, \"Product_ID\")\n",
    "\n",
    "test[\"Product_ID_MinPrice\"] = min_price_list\n",
    "test[\"Product_ID_MaxPrice\"] = max_price_list\n",
    "test[\"Product_ID_MeanPrice\"] = mean_price_list\n",
    "test[\"Product_ID_25PercPrice\"] = twentyfive_price_list\n",
    "test[\"Product_ID_75PercPrice\"] = seventyfive_price_list"
   ]
  },
  {
   "cell_type": "code",
   "execution_count": 43,
   "metadata": {
    "collapsed": true
   },
   "outputs": [],
   "source": [
    "# Product_Category_1\n",
    "\n",
    "min_price_list, max_price_list, mean_price_list, twentyfive_price_list, seventyfive_price_list = \\\n",
    "getPurchaseVar(train, train, \"Prod_Cat1\")\n",
    "\n",
    "train[\"Prod_Cat1_MinPrice\"] = min_price_list\n",
    "train[\"Prod_Cat1_MaxPrice\"] = max_price_list\n",
    "train[\"Prod_Cat1_MeanPrice\"] = mean_price_list\n",
    "train[\"Prod_Cat1_25PercPrice\"] = twentyfive_price_list\n",
    "train[\"Prod_Cat1_75PercPrice\"] = seventyfive_price_list\n",
    "\n",
    "\n",
    "min_price_list, max_price_list, mean_price_list, twentyfive_price_list, seventyfive_price_list = \\\n",
    "getPurchaseVar(test, train, \"Prod_Cat1\")\n",
    "\n",
    "test[\"Prod_Cat1_MinPrice\"] = min_price_list\n",
    "test[\"Prod_Cat1_MaxPrice\"] = max_price_list\n",
    "test[\"Prod_Cat1_MeanPrice\"] = mean_price_list\n",
    "test[\"Prod_Cat1_25PercPrice\"] = twentyfive_price_list\n",
    "test[\"Prod_Cat1_75PercPrice\"] = seventyfive_price_list"
   ]
  },
  {
   "cell_type": "code",
   "execution_count": 44,
   "metadata": {},
   "outputs": [
    {
     "data": {
      "text/html": [
       "<div>\n",
       "<style>\n",
       "    .dataframe thead tr:only-child th {\n",
       "        text-align: right;\n",
       "    }\n",
       "\n",
       "    .dataframe thead th {\n",
       "        text-align: left;\n",
       "    }\n",
       "\n",
       "    .dataframe tbody tr th {\n",
       "        vertical-align: top;\n",
       "    }\n",
       "</style>\n",
       "<table border=\"1\" class=\"dataframe\">\n",
       "  <thead>\n",
       "    <tr style=\"text-align: right;\">\n",
       "      <th></th>\n",
       "      <th>User_ID</th>\n",
       "      <th>Product_ID</th>\n",
       "      <th>Gender</th>\n",
       "      <th>Age</th>\n",
       "      <th>Occupation</th>\n",
       "      <th>City_Stay</th>\n",
       "      <th>Marital_Status</th>\n",
       "      <th>Prod_Cat1</th>\n",
       "      <th>Purchase</th>\n",
       "      <th>City_Cat_B</th>\n",
       "      <th>...</th>\n",
       "      <th>Product_ID_MinPrice</th>\n",
       "      <th>Product_ID_MaxPrice</th>\n",
       "      <th>Product_ID_MeanPrice</th>\n",
       "      <th>Product_ID_25PercPrice</th>\n",
       "      <th>Product_ID_75PercPrice</th>\n",
       "      <th>Prod_Cat1_MinPrice</th>\n",
       "      <th>Prod_Cat1_MaxPrice</th>\n",
       "      <th>Prod_Cat1_MeanPrice</th>\n",
       "      <th>Prod_Cat1_25PercPrice</th>\n",
       "      <th>Prod_Cat1_75PercPrice</th>\n",
       "    </tr>\n",
       "  </thead>\n",
       "  <tbody>\n",
       "    <tr>\n",
       "      <th>0</th>\n",
       "      <td>0</td>\n",
       "      <td>672</td>\n",
       "      <td>0</td>\n",
       "      <td>15</td>\n",
       "      <td>10</td>\n",
       "      <td>2</td>\n",
       "      <td>0</td>\n",
       "      <td>3</td>\n",
       "      <td>8370.0</td>\n",
       "      <td>0</td>\n",
       "      <td>...</td>\n",
       "      <td>2648.0</td>\n",
       "      <td>13716.0</td>\n",
       "      <td>11870.863436</td>\n",
       "      <td>10804.00</td>\n",
       "      <td>13475.50</td>\n",
       "      <td>2638.0</td>\n",
       "      <td>13717.0</td>\n",
       "      <td>10096.705734</td>\n",
       "      <td>8198.0</td>\n",
       "      <td>13211.0</td>\n",
       "    </tr>\n",
       "    <tr>\n",
       "      <th>1</th>\n",
       "      <td>0</td>\n",
       "      <td>2376</td>\n",
       "      <td>0</td>\n",
       "      <td>15</td>\n",
       "      <td>10</td>\n",
       "      <td>2</td>\n",
       "      <td>0</td>\n",
       "      <td>1</td>\n",
       "      <td>15200.0</td>\n",
       "      <td>0</td>\n",
       "      <td>...</td>\n",
       "      <td>3880.0</td>\n",
       "      <td>19701.0</td>\n",
       "      <td>16304.030981</td>\n",
       "      <td>15312.00</td>\n",
       "      <td>19264.00</td>\n",
       "      <td>3790.0</td>\n",
       "      <td>19708.0</td>\n",
       "      <td>13606.218596</td>\n",
       "      <td>11546.0</td>\n",
       "      <td>15812.0</td>\n",
       "    </tr>\n",
       "    <tr>\n",
       "      <th>2</th>\n",
       "      <td>0</td>\n",
       "      <td>852</td>\n",
       "      <td>0</td>\n",
       "      <td>15</td>\n",
       "      <td>10</td>\n",
       "      <td>2</td>\n",
       "      <td>0</td>\n",
       "      <td>12</td>\n",
       "      <td>1422.0</td>\n",
       "      <td>0</td>\n",
       "      <td>...</td>\n",
       "      <td>343.0</td>\n",
       "      <td>1776.0</td>\n",
       "      <td>1237.892157</td>\n",
       "      <td>1043.75</td>\n",
       "      <td>1423.75</td>\n",
       "      <td>342.0</td>\n",
       "      <td>1778.0</td>\n",
       "      <td>1350.859894</td>\n",
       "      <td>1071.0</td>\n",
       "      <td>1723.0</td>\n",
       "    </tr>\n",
       "    <tr>\n",
       "      <th>3</th>\n",
       "      <td>0</td>\n",
       "      <td>828</td>\n",
       "      <td>0</td>\n",
       "      <td>15</td>\n",
       "      <td>10</td>\n",
       "      <td>2</td>\n",
       "      <td>0</td>\n",
       "      <td>12</td>\n",
       "      <td>1057.0</td>\n",
       "      <td>0</td>\n",
       "      <td>...</td>\n",
       "      <td>365.0</td>\n",
       "      <td>1778.0</td>\n",
       "      <td>1455.140762</td>\n",
       "      <td>1378.00</td>\n",
       "      <td>1736.00</td>\n",
       "      <td>342.0</td>\n",
       "      <td>1778.0</td>\n",
       "      <td>1350.859894</td>\n",
       "      <td>1071.0</td>\n",
       "      <td>1723.0</td>\n",
       "    </tr>\n",
       "    <tr>\n",
       "      <th>4</th>\n",
       "      <td>1</td>\n",
       "      <td>2734</td>\n",
       "      <td>1</td>\n",
       "      <td>60</td>\n",
       "      <td>16</td>\n",
       "      <td>4</td>\n",
       "      <td>0</td>\n",
       "      <td>8</td>\n",
       "      <td>7969.0</td>\n",
       "      <td>0</td>\n",
       "      <td>...</td>\n",
       "      <td>3920.0</td>\n",
       "      <td>10073.0</td>\n",
       "      <td>7692.763547</td>\n",
       "      <td>6174.50</td>\n",
       "      <td>8082.50</td>\n",
       "      <td>1939.0</td>\n",
       "      <td>10082.0</td>\n",
       "      <td>7498.958078</td>\n",
       "      <td>6036.0</td>\n",
       "      <td>9722.0</td>\n",
       "    </tr>\n",
       "  </tbody>\n",
       "</table>\n",
       "<p>5 rows × 30 columns</p>\n",
       "</div>"
      ],
      "text/plain": [
       "   User_ID  Product_ID  Gender  Age  Occupation  City_Stay  Marital_Status  \\\n",
       "0        0         672       0   15          10          2               0   \n",
       "1        0        2376       0   15          10          2               0   \n",
       "2        0         852       0   15          10          2               0   \n",
       "3        0         828       0   15          10          2               0   \n",
       "4        1        2734       1   60          16          4               0   \n",
       "\n",
       "   Prod_Cat1  Purchase  City_Cat_B          ...            \\\n",
       "0          3    8370.0           0          ...             \n",
       "1          1   15200.0           0          ...             \n",
       "2         12    1422.0           0          ...             \n",
       "3         12    1057.0           0          ...             \n",
       "4          8    7969.0           0          ...             \n",
       "\n",
       "   Product_ID_MinPrice  Product_ID_MaxPrice  Product_ID_MeanPrice  \\\n",
       "0               2648.0              13716.0          11870.863436   \n",
       "1               3880.0              19701.0          16304.030981   \n",
       "2                343.0               1776.0           1237.892157   \n",
       "3                365.0               1778.0           1455.140762   \n",
       "4               3920.0              10073.0           7692.763547   \n",
       "\n",
       "   Product_ID_25PercPrice  Product_ID_75PercPrice  Prod_Cat1_MinPrice  \\\n",
       "0                10804.00                13475.50              2638.0   \n",
       "1                15312.00                19264.00              3790.0   \n",
       "2                 1043.75                 1423.75               342.0   \n",
       "3                 1378.00                 1736.00               342.0   \n",
       "4                 6174.50                 8082.50              1939.0   \n",
       "\n",
       "   Prod_Cat1_MaxPrice  Prod_Cat1_MeanPrice  Prod_Cat1_25PercPrice  \\\n",
       "0             13717.0         10096.705734                 8198.0   \n",
       "1             19708.0         13606.218596                11546.0   \n",
       "2              1778.0          1350.859894                 1071.0   \n",
       "3              1778.0          1350.859894                 1071.0   \n",
       "4             10082.0          7498.958078                 6036.0   \n",
       "\n",
       "   Prod_Cat1_75PercPrice  \n",
       "0                13211.0  \n",
       "1                15812.0  \n",
       "2                 1723.0  \n",
       "3                 1723.0  \n",
       "4                 9722.0  \n",
       "\n",
       "[5 rows x 30 columns]"
      ]
     },
     "execution_count": 44,
     "metadata": {},
     "output_type": "execute_result"
    }
   ],
   "source": [
    "train.head()"
   ]
  },
  {
   "cell_type": "code",
   "execution_count": 45,
   "metadata": {},
   "outputs": [
    {
     "data": {
      "text/html": [
       "<div>\n",
       "<style>\n",
       "    .dataframe thead tr:only-child th {\n",
       "        text-align: right;\n",
       "    }\n",
       "\n",
       "    .dataframe thead th {\n",
       "        text-align: left;\n",
       "    }\n",
       "\n",
       "    .dataframe tbody tr th {\n",
       "        vertical-align: top;\n",
       "    }\n",
       "</style>\n",
       "<table border=\"1\" class=\"dataframe\">\n",
       "  <thead>\n",
       "    <tr style=\"text-align: right;\">\n",
       "      <th></th>\n",
       "      <th>User_ID</th>\n",
       "      <th>Product_ID</th>\n",
       "      <th>Gender</th>\n",
       "      <th>Age</th>\n",
       "      <th>Occupation</th>\n",
       "      <th>City_Stay</th>\n",
       "      <th>Marital_Status</th>\n",
       "      <th>Prod_Cat1</th>\n",
       "      <th>City_Cat_B</th>\n",
       "      <th>City_Cat_C</th>\n",
       "      <th>...</th>\n",
       "      <th>Product_ID_MinPrice</th>\n",
       "      <th>Product_ID_MaxPrice</th>\n",
       "      <th>Product_ID_MeanPrice</th>\n",
       "      <th>Product_ID_25PercPrice</th>\n",
       "      <th>Product_ID_75PercPrice</th>\n",
       "      <th>Prod_Cat1_MinPrice</th>\n",
       "      <th>Prod_Cat1_MaxPrice</th>\n",
       "      <th>Prod_Cat1_MeanPrice</th>\n",
       "      <th>Prod_Cat1_25PercPrice</th>\n",
       "      <th>Prod_Cat1_75PercPrice</th>\n",
       "    </tr>\n",
       "  </thead>\n",
       "  <tbody>\n",
       "    <tr>\n",
       "      <th>0</th>\n",
       "      <td>3</td>\n",
       "      <td>1196</td>\n",
       "      <td>1</td>\n",
       "      <td>48</td>\n",
       "      <td>7</td>\n",
       "      <td>2</td>\n",
       "      <td>1</td>\n",
       "      <td>1</td>\n",
       "      <td>1</td>\n",
       "      <td>0</td>\n",
       "      <td>...</td>\n",
       "      <td>3933.0</td>\n",
       "      <td>19708.0</td>\n",
       "      <td>15781.118590</td>\n",
       "      <td>12067.50</td>\n",
       "      <td>19248.50</td>\n",
       "      <td>3790.0</td>\n",
       "      <td>19708.0</td>\n",
       "      <td>13606.218596</td>\n",
       "      <td>11546.0</td>\n",
       "      <td>15812.0</td>\n",
       "    </tr>\n",
       "    <tr>\n",
       "      <th>1</th>\n",
       "      <td>8</td>\n",
       "      <td>1043</td>\n",
       "      <td>1</td>\n",
       "      <td>30</td>\n",
       "      <td>17</td>\n",
       "      <td>0</td>\n",
       "      <td>0</td>\n",
       "      <td>3</td>\n",
       "      <td>0</td>\n",
       "      <td>1</td>\n",
       "      <td>...</td>\n",
       "      <td>3077.0</td>\n",
       "      <td>13714.0</td>\n",
       "      <td>11746.665354</td>\n",
       "      <td>10731.25</td>\n",
       "      <td>13493.25</td>\n",
       "      <td>2638.0</td>\n",
       "      <td>13717.0</td>\n",
       "      <td>10096.705734</td>\n",
       "      <td>8198.0</td>\n",
       "      <td>13211.0</td>\n",
       "    </tr>\n",
       "    <tr>\n",
       "      <th>2</th>\n",
       "      <td>9</td>\n",
       "      <td>2764</td>\n",
       "      <td>0</td>\n",
       "      <td>38</td>\n",
       "      <td>1</td>\n",
       "      <td>4</td>\n",
       "      <td>1</td>\n",
       "      <td>5</td>\n",
       "      <td>1</td>\n",
       "      <td>0</td>\n",
       "      <td>...</td>\n",
       "      <td>1734.0</td>\n",
       "      <td>8900.0</td>\n",
       "      <td>5731.338028</td>\n",
       "      <td>5147.00</td>\n",
       "      <td>7027.00</td>\n",
       "      <td>1713.0</td>\n",
       "      <td>8907.0</td>\n",
       "      <td>6240.088178</td>\n",
       "      <td>5242.0</td>\n",
       "      <td>7156.0</td>\n",
       "    </tr>\n",
       "    <tr>\n",
       "      <th>3</th>\n",
       "      <td>9</td>\n",
       "      <td>1358</td>\n",
       "      <td>0</td>\n",
       "      <td>38</td>\n",
       "      <td>1</td>\n",
       "      <td>4</td>\n",
       "      <td>1</td>\n",
       "      <td>4</td>\n",
       "      <td>1</td>\n",
       "      <td>0</td>\n",
       "      <td>...</td>\n",
       "      <td>813.0</td>\n",
       "      <td>3526.0</td>\n",
       "      <td>1943.266667</td>\n",
       "      <td>1459.00</td>\n",
       "      <td>2129.50</td>\n",
       "      <td>684.0</td>\n",
       "      <td>3556.0</td>\n",
       "      <td>2329.659491</td>\n",
       "      <td>2058.0</td>\n",
       "      <td>2837.0</td>\n",
       "    </tr>\n",
       "    <tr>\n",
       "      <th>4</th>\n",
       "      <td>10</td>\n",
       "      <td>529</td>\n",
       "      <td>0</td>\n",
       "      <td>30</td>\n",
       "      <td>1</td>\n",
       "      <td>1</td>\n",
       "      <td>0</td>\n",
       "      <td>4</td>\n",
       "      <td>0</td>\n",
       "      <td>1</td>\n",
       "      <td>...</td>\n",
       "      <td>684.0</td>\n",
       "      <td>3556.0</td>\n",
       "      <td>2585.590829</td>\n",
       "      <td>2115.00</td>\n",
       "      <td>3421.50</td>\n",
       "      <td>684.0</td>\n",
       "      <td>3556.0</td>\n",
       "      <td>2329.659491</td>\n",
       "      <td>2058.0</td>\n",
       "      <td>2837.0</td>\n",
       "    </tr>\n",
       "  </tbody>\n",
       "</table>\n",
       "<p>5 rows × 29 columns</p>\n",
       "</div>"
      ],
      "text/plain": [
       "   User_ID  Product_ID  Gender  Age  Occupation  City_Stay  Marital_Status  \\\n",
       "0        3        1196       1   48           7          2               1   \n",
       "1        8        1043       1   30          17          0               0   \n",
       "2        9        2764       0   38           1          4               1   \n",
       "3        9        1358       0   38           1          4               1   \n",
       "4       10         529       0   30           1          1               0   \n",
       "\n",
       "   Prod_Cat1  City_Cat_B  City_Cat_C          ...            \\\n",
       "0          1           1           0          ...             \n",
       "1          3           0           1          ...             \n",
       "2          5           1           0          ...             \n",
       "3          4           1           0          ...             \n",
       "4          4           0           1          ...             \n",
       "\n",
       "   Product_ID_MinPrice  Product_ID_MaxPrice  Product_ID_MeanPrice  \\\n",
       "0               3933.0              19708.0          15781.118590   \n",
       "1               3077.0              13714.0          11746.665354   \n",
       "2               1734.0               8900.0           5731.338028   \n",
       "3                813.0               3526.0           1943.266667   \n",
       "4                684.0               3556.0           2585.590829   \n",
       "\n",
       "   Product_ID_25PercPrice  Product_ID_75PercPrice  Prod_Cat1_MinPrice  \\\n",
       "0                12067.50                19248.50              3790.0   \n",
       "1                10731.25                13493.25              2638.0   \n",
       "2                 5147.00                 7027.00              1713.0   \n",
       "3                 1459.00                 2129.50               684.0   \n",
       "4                 2115.00                 3421.50               684.0   \n",
       "\n",
       "   Prod_Cat1_MaxPrice  Prod_Cat1_MeanPrice  Prod_Cat1_25PercPrice  \\\n",
       "0             19708.0         13606.218596                11546.0   \n",
       "1             13717.0         10096.705734                 8198.0   \n",
       "2              8907.0          6240.088178                 5242.0   \n",
       "3              3556.0          2329.659491                 2058.0   \n",
       "4              3556.0          2329.659491                 2058.0   \n",
       "\n",
       "   Prod_Cat1_75PercPrice  \n",
       "0                15812.0  \n",
       "1                13211.0  \n",
       "2                 7156.0  \n",
       "3                 2837.0  \n",
       "4                 2837.0  \n",
       "\n",
       "[5 rows x 29 columns]"
      ]
     },
     "execution_count": 45,
     "metadata": {},
     "output_type": "execute_result"
    }
   ],
   "source": [
    "test.head()"
   ]
  },
  {
   "cell_type": "markdown",
   "metadata": {},
   "source": [
    "---"
   ]
  },
  {
   "cell_type": "code",
   "execution_count": null,
   "metadata": {
    "collapsed": true
   },
   "outputs": [],
   "source": [
    "##############################################\n",
    "# Preparing Feature Matrix and Response Vector\n",
    "##############################################"
   ]
  },
  {
   "cell_type": "code",
   "execution_count": 46,
   "metadata": {
    "collapsed": true
   },
   "outputs": [],
   "source": [
    "X = train.drop('Purchase', axis=1)\n",
    "y = train['Purchase']"
   ]
  },
  {
   "cell_type": "markdown",
   "metadata": {},
   "source": [
    "---"
   ]
  },
  {
   "cell_type": "markdown",
   "metadata": {},
   "source": [
    "## Modelling"
   ]
  },
  {
   "cell_type": "code",
   "execution_count": null,
   "metadata": {
    "collapsed": true
   },
   "outputs": [],
   "source": [
    "############################################################################\n",
    "# Parameters Set 1\n",
    "param2 = {'objective': 'reg:linear', 'booster': 'gbtree', 'silent': 1,\n",
    "          'max_depth': 10, 'eta': 0.1, 'nthread': 4, 'subsample': 0.8,\n",
    "          'colsample_bytree': 0.8, 'min_child_weight': 20,\n",
    "          'max_delta_step': 0, 'gamma': 0}\n",
    "\n",
    "num_boost_rounds = 690  # Number of boosting iterations\n",
    "############################################################################\n",
    "\n",
    "\n",
    "############################################################################\n",
    "# Parameters Set 2\n",
    "param1 = {'objective': 'reg:linear', 'silent': 1, 'max_depth': 10,\n",
    "          'eta': 0.03, 'subsample': 0.8, 'min_child_weight': 10,\n",
    "          'seed': 0}\n",
    "\n",
    "num_boost_rounds = 1100  # Number of boosting iterations\n",
    "############################################################################"
   ]
  },
  {
   "cell_type": "markdown",
   "metadata": {},
   "source": [
    "---"
   ]
  },
  {
   "cell_type": "code",
   "execution_count": 54,
   "metadata": {
    "collapsed": true
   },
   "outputs": [],
   "source": [
    "#########\n",
    "# DMatrix\n",
    "#########\n",
    "\n",
    "# DMatrix is a internal data structure that is used by XGBoost\n",
    "# It is optimized for both memory efficiency and training speed.\n",
    "# It is used for storing our train and test data in an efficient manner for XGBoost.\n",
    "\n",
    "dtrain = xgb.DMatrix(data=X.values, label=y)         # Stores our training set\n",
    "dtest = xgb.DMatrix(data=test.values, label=None)    # Stores our testing set (Testing set has no labels)"
   ]
  },
  {
   "cell_type": "markdown",
   "metadata": {},
   "source": [
    "---"
   ]
  },
  {
   "cell_type": "code",
   "execution_count": 55,
   "metadata": {},
   "outputs": [
    {
     "name": "stdout",
     "output_type": "stream",
     "text": [
      "Running model..\n"
     ]
    }
   ],
   "source": [
    "############################\n",
    "# Function for XGBoost Model\n",
    "############################\n",
    "\n",
    "def XGBoost_Model(dtrain,  dtest,  num_boost_rounds,  param_dict, seed_no=0):\n",
    "\n",
    "    param_dict[\"seed\"] = seed_no\n",
    "\n",
    "    regressor = xgb.train(params=param_dict, dtrain=dtrain, num_boost_rounds=num_boost_rounds)\n",
    "    \n",
    "    test_pred = regressor.predict(dtest)\n",
    "    \n",
    "    return test_pred"
   ]
  },
  {
   "cell_type": "markdown",
   "metadata": {},
   "source": [
    "---"
   ]
  },
  {
   "cell_type": "code",
   "execution_count": null,
   "metadata": {
    "collapsed": true
   },
   "outputs": [],
   "source": [
    "# For running XGBoost once (USING PARAMETER SET 1)\n",
    "# Saving it to test_pred1\n",
    "\n",
    "print(\"Model Running...\")\n",
    "test_preds1 = XGBoost_Model(dtrain, dtest, num_boost_rounds, param1, seed_no=0)\n",
    "print(\"Done OK.\")"
   ]
  },
  {
   "cell_type": "markdown",
   "metadata": {},
   "source": [
    "---"
   ]
  },
  {
   "cell_type": "code",
   "execution_count": null,
   "metadata": {
    "collapsed": true
   },
   "outputs": [],
   "source": [
    "# For running XGBoost n times with n seeds and taking mean predictions of each row (USING PARAMETER SET 2)\n",
    "# Saving it to test_pred2\n",
    "\n",
    "seeds = [1122, 2244, 3366, 4488, 5500]  # Random Seed Numbers (In this case 5 seeds)\n",
    "\n",
    "test_preds = np.zeros((len(test), len(seeds))) # A 2-D array of 0's for storing our 5 predictions for each row\n",
    "                                               # Initially these predictions are set to zero\n",
    "                                               # Eg.[ [0,0,0,0,0], [0,0,0,0,0], [0,0,0,0,0], ........ ] \n",
    "\n",
    "for run in range(len(seeds)):\n",
    "\n",
    "    sys.stdout.write(\"\\rXGB RUN:{}/{}\".format(run+1, len(seeds)))   # For writing to the screen eg. RUN:1/5\n",
    "    sys.stdout.flush()                                              # For flushing out the output\n",
    "\n",
    "    test_preds[:, run] = XGBoost_Model(dtrain, dtest, num_boost_round, param2, seed_no=seeds[run])\n",
    "    \n",
    "\n",
    "test_pred2 = np.mean(test_preds, axis=1)  # Taking mean prediction of each row    "
   ]
  },
  {
   "cell_type": "markdown",
   "metadata": {},
   "source": [
    "---"
   ]
  },
  {
   "cell_type": "code",
   "execution_count": 56,
   "metadata": {
    "collapsed": true
   },
   "outputs": [],
   "source": [
    "# Submission files\n",
    "\n",
    "submit1 = pd.DataFrame({'User_ID': ids_test, 'Product_ID': product_ids_test, 'Purchase': test_pred1})\n",
    "submit1 = submit1[['User_ID', 'Product_ID', 'Purchase']]\n",
    "\n",
    "submit2 = pd.DataFrame({'User_ID': ids_test, 'Product_ID': product_ids_test, 'Purchase': test_pred2})\n",
    "submit2 = submit2[['User_ID', 'Product_ID', 'Purchase']]"
   ]
  },
  {
   "cell_type": "code",
   "execution_count": 57,
   "metadata": {
    "collapsed": true
   },
   "outputs": [],
   "source": [
    "submit1.ix[submit['Purchase'] < 0, 'Purchase'] = 12\n",
    "submit1.to_csv(\"Submissions/final_solution-2.csv\", index=False)\n",
    "\n",
    "submit2.ix[submit['Purchase'] < 0, 'Purchase'] = 12\n",
    "submit2.to_csv(\"Submissions/final_solution-3.csv\", index=False)"
   ]
  },
  {
   "cell_type": "markdown",
   "metadata": {},
   "source": [
    "---"
   ]
  }
 ],
 "metadata": {
  "kernelspec": {
   "display_name": "Python 3",
   "language": "python",
   "name": "python3"
  },
  "language_info": {
   "codemirror_mode": {
    "name": "ipython",
    "version": 3
   },
   "file_extension": ".py",
   "mimetype": "text/x-python",
   "name": "python",
   "nbconvert_exporter": "python",
   "pygments_lexer": "ipython3",
   "version": "3.6.2"
  }
 },
 "nbformat": 4,
 "nbformat_minor": 2
}
