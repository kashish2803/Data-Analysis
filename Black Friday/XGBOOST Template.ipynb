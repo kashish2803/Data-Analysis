{
 "cells": [
  {
   "cell_type": "markdown",
   "metadata": {},
   "source": [
    "# XGBOOST"
   ]
  },
  {
   "cell_type": "code",
   "execution_count": 6,
   "metadata": {
    "collapsed": true
   },
   "outputs": [],
   "source": [
    "import numpy as np\n",
    "import pandas as pd\n",
    "import xgboost as xgb"
   ]
  },
  {
   "cell_type": "code",
   "execution_count": 7,
   "metadata": {
    "collapsed": true
   },
   "outputs": [],
   "source": [
    "train = pd.read_csv('train_final.csv')\n",
    "test = pd.read_csv('test_final.csv')"
   ]
  },
  {
   "cell_type": "code",
   "execution_count": 8,
   "metadata": {
    "collapsed": true
   },
   "outputs": [],
   "source": [
    "X = train.drop('Purchase', axis=1)\n",
    "y = train['Purchase']"
   ]
  },
  {
   "cell_type": "markdown",
   "metadata": {},
   "source": [
    "---"
   ]
  },
  {
   "cell_type": "code",
   "execution_count": null,
   "metadata": {
    "collapsed": true
   },
   "outputs": [],
   "source": [
    "############################################################################\n",
    "# Parameters Set 1\n",
    "param2 = {'objective': 'reg:linear', 'booster': 'gbtree', 'silent': 1,\n",
    "          'max_depth': 10, 'eta': 0.1, 'nthread': 4, 'subsample': 0.8,\n",
    "          'colsample_bytree': 0.8, 'min_child_weight': 20,\n",
    "          'max_delta_step': 0, 'gamma': 0}\n",
    "\n",
    "num_boost_rounds = 690  # Number of boosting iterations\n",
    "############################################################################\n",
    "\n",
    "\n",
    "############################################################################\n",
    "# Parameters Set 2\n",
    "param1 = {'objective': 'reg:linear', 'silent': 1, 'max_depth': 10,\n",
    "          'eta': 0.03, 'subsample': 0.8, 'min_child_weight': 10,\n",
    "          'seed': 0}\n",
    "\n",
    "num_boost_rounds = 1100  # Number of boosting iterations\n",
    "############################################################################"
   ]
  },
  {
   "cell_type": "markdown",
   "metadata": {},
   "source": [
    "---"
   ]
  },
  {
   "cell_type": "code",
   "execution_count": null,
   "metadata": {
    "collapsed": true
   },
   "outputs": [],
   "source": [
    "#########\n",
    "# DMatrix\n",
    "#########\n",
    "\n",
    "# DMatrix is a internal data structure that is used by XGBoost\n",
    "# It is optimized for both memory efficiency and training speed.\n",
    "# It is used for storing our train and test data in an efficient manner for XGBoost.\n",
    "\n",
    "dtrain = xgb.DMatrix(data=X.values, label=y)         # Stores our training set\n",
    "dtest = xgb.DMatrix(data=test.values, label=None)    # Stores our testing set (Testing set has no labels)"
   ]
  },
  {
   "cell_type": "markdown",
   "metadata": {},
   "source": [
    "---"
   ]
  },
  {
   "cell_type": "code",
   "execution_count": null,
   "metadata": {
    "collapsed": true
   },
   "outputs": [],
   "source": [
    "############################\n",
    "# Function for XGBoost Model\n",
    "############################\n",
    "\n",
    "def XGBoost_Model(dtrain,  dtest,  num_boost_rounds,  param_dict, seed_no=0):\n",
    "\n",
    "    param_dict[\"seed\"] = seed_no\n",
    "\n",
    "    regressor = xgb.train(params=param_dict, dtrain=dtrain, num_boost_rounds=num_boost_rounds)\n",
    "    \n",
    "    test_pred = regressor.predict(dtest)\n",
    "    \n",
    "    return test_pred"
   ]
  },
  {
   "cell_type": "markdown",
   "metadata": {},
   "source": [
    "---"
   ]
  },
  {
   "cell_type": "code",
   "execution_count": null,
   "metadata": {
    "collapsed": true
   },
   "outputs": [],
   "source": [
    "# For running XGBoost once\n",
    "\n",
    "test_preds = XGBoost_Model(dtrain, dtest, num_boost_rounds, param1, seed_no=0)"
   ]
  },
  {
   "cell_type": "markdown",
   "metadata": {},
   "source": [
    "---"
   ]
  },
  {
   "cell_type": "code",
   "execution_count": null,
   "metadata": {
    "collapsed": true
   },
   "outputs": [],
   "source": [
    "# For running XGBoost n times with n seeds and taking mean predictions of each row\n",
    "\n",
    "seeds = [1122, 2244, 3366, 4488, 5500]  # Random Seed Numbers (In this case 5 seeds)\n",
    "\n",
    "test_preds = np.zeros((len(test), len(seeds)))  # A 2-D array of 0's for storing our 5 predictions for each row\n",
    "                                                # Initially these predictions are set to zero\n",
    "                                                # Eg.[ [0,0,0,0,0], [0,0,0,0,0], [0,0,0,0,0], ........ ] \n",
    "\n",
    "for run in range(len(seeds)):\n",
    "\n",
    "    sys.stdout.write(\"\\rXGB RUN:{}/{}\".format(run+1, len(seeds)))   # For writing to the screen eg. RUN:1/5\n",
    "    sys.stdout.flush()                                              # For flushing out the output\n",
    "\n",
    "    test_preds[:, run] = XGBoost_Model(dtrain, dtest, num_boost_rounds, param2, seed_no=seeds[run])\n",
    "    \n",
    "\n",
    "test_preds = np.mean(test_preds, axis=1)  # Taking mean prediction of each row    "
   ]
  },
  {
   "cell_type": "markdown",
   "metadata": {},
   "source": [
    "---"
   ]
  },
  {
   "cell_type": "code",
   "execution_count": null,
   "metadata": {
    "collapsed": true
   },
   "outputs": [],
   "source": [
    "# Submission file\n",
    "\n",
    "submit = pd.DataFrame({'User_ID': ids_test, 'Product_ID': product_ids_test, 'Purchase': test_preds})\n",
    "submit = submit[['User_ID', 'Product_ID', 'Purchase']]"
   ]
  },
  {
   "cell_type": "code",
   "execution_count": null,
   "metadata": {
    "collapsed": true
   },
   "outputs": [],
   "source": [
    "submit.ix[submit['Purchase'] < 0, 'Purchase'] = 12     # Changing min prediction to min value in train\n",
    "submit.to_csv(\"final_solution-2.csv\", index=False)"
   ]
  }
 ],
 "metadata": {
  "kernelspec": {
   "display_name": "Python 3",
   "language": "python",
   "name": "python3"
  },
  "language_info": {
   "codemirror_mode": {
    "name": "ipython",
    "version": 3
   },
   "file_extension": ".py",
   "mimetype": "text/x-python",
   "name": "python",
   "nbconvert_exporter": "python",
   "pygments_lexer": "ipython3",
   "version": "3.6.2"
  }
 },
 "nbformat": 4,
 "nbformat_minor": 2
}
